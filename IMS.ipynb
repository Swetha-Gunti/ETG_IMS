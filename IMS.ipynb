{
  "nbformat": 4,
  "nbformat_minor": 0,
  "metadata": {
    "colab": {
      "name": "IMS.ipynb",
      "provenance": []
    },
    "kernelspec": {
      "name": "python3",
      "display_name": "Python 3"
    },
    "language_info": {
      "name": "python"
    }
  },
  "cells": [
    {
      "cell_type": "code",
      "metadata": {
        "id": "mFJO32zGfXAR"
      },
      "source": [
        "rec= {1:{\"name\":\"Moong Dal                             \",\"price\":250,\"quantity\":1,\"category\":\"staples\",\"disc.\":22},\n",
        "      2:{\"name\":\"sugar                                 \",\"price\":100,\"quantity\":2,\"category\":\"staples\",\"disc.\":23},\n",
        "      3:{\"name\":\"Masoor Dal                            \",\"price\":300,\"quantity\":2,\"category\":\"staples\",\"disc.\":30},\n",
        "      4:{\"name\":\"Chana Dal                             \",\"price\":80,\"quantity\":1,\"category\":\"staple\",\"disc.\":0},\n",
        "      5:{\"name\":\"Sunflower oil                         \",\"price\":180,\"quantity\":1,\"category\":\"staples\",\"disc.\":14},\n",
        "      6:{\"name\":\"Almonds                               \",\"price\":600,\"quantity\":3,\"category\":\"staples\",\"disc.\":34},\n",
        "      7:{\"name\":\"Rice Flour                            \",\"price\":500,\"quantity\":10,\"category\":\"staples\",\"disc.\":0},\n",
        "      8:{\"name\":\"Wheat Atta                            \",\"price\":200,\"quantity\":5,\"category\":\"staples\",\"disc.\":0},\n",
        "      9:{\"name\":\"Black Pepper                          \",\"price\":50,\"quantity\":1,\"category\":\"staples\",\"disc.\":0},\n",
        "      10:{\"name\":\"Turmeric Powder                      \",\"price\":160,\"quantity\":2,\"category\":\"staples\",\"disc.\":10},\n",
        "      11:{\"name\":\"Santoor                              \",\"price\":227,\"quantity\":8,\"category\":\"personl care\",\"disc.\":20},\n",
        "      12:{\"name\":\"Dettol Hand Wash                     \",\"price\":88,\"quantity\":1,\"category\":\"personal care\",\"disc.\":15},\n",
        "      13:{\"name\":\"Himalaya Neem Face Wash              \",\"price\":173,\"quantity\":1,\"category\":\"personal care\",\"disc.\":35},\n",
        "      14:{\"name\":\"cinthol                              \",\"price\":100,\"quantity\":3,\"category\":\"personal care\",\"disc.\":15},\n",
        "      15:{\"name\":\"Parachute HairOil                    \",\"price\":150,\"quantity\":1,\"category\":\"personal care\",\"disc.\":25},\n",
        "      16:{\"name\":\"Head & Shoulders shampoo             \",\"price\":227,\"quantity\":8,\"category\":\"personl care\",\"disc.\":11},\n",
        "      17:{\"name\":\"Colgate Maxfresh Ice Tooothpaste     \",\"price\":300,\"quantity\":4,\"category\":\"personal care\",\"disc.\":17},\n",
        "      18:{\"name\":\"Yardley London Body Spray            \",\"price\":150,\"quantity\":1,\"category\":\"personal care\",\"disc.\":0},\n",
        "      19:{\"name\":\"Vaseline Moisture Body Lotion        \",\"price\":340,\"quantity\":2,\"category\":\"personal care\",\"disc.\":25},\n",
        "      20:{\"name\":\"Johnson's Baby soap                  \",\"price\":250,\"quantity\":3,\"category\":\"personal care\",\"disc.\":50},\n",
        "      21:{\"name\":\"Surf excel detergent                 \",\"price\":200,\"quantity\":1,\"category\":\"Household Care\",\"disc.\":40},\n",
        "      22:{\"name\":\"Vim dishwash bar                     \",\"price\":40,\"quantity\":3,\"category\":\"Household Care\",\"disc.\":14},\n",
        "      23:{\"name\":\"Good Knight Mosquito Vaporiser Refill\",\"price\":270,\"quantity\":3,\"category\":\"Household Care\",\"disc.\":20},\n",
        "      24:{\"name\":\"UNIBIC Butter Cookies                \",\"price\":60,\"quantity\":5,\"category\":\"Snacks & Beverages\",\"disc.\":32},\n",
        "      25:{\"name\":\"Elite Milk Rusk                      \",\"price\":50,\"quantity\":2,\"category\":\"Snacks & Beverages\",\"disc.\":12},\n",
        "      26:{\"name\":\"Bingo Mad Angles                     \",\"price\":30,\"quantity\":1,\"category\":\"Snacks & Beverages\",\"disc.\":34},\n",
        "      27:{\"name\":\"Lipton Green Tea box                 \",\"price\":120,\"quantity\":1,\"category\":\"Snacks & Beverages\",\"disc.\":0},\n",
        "      28:{\"name\":\"BRU Instant Coffee                   \",\"price\":250,\"quantity\":1,\"category\":\"Snacks & Beverages\",\"disc.\":25},\n",
        "      29:{\"name\":\"Coca-Cola Can                        \",\"price\":30,\"quantity\":1,\"category\":\"Snacks & Beverages\",\"disc.\":0},\n",
        "      30:{\"name\":\"Rasna Instant Mango                  \",\"price\":109,\"quantity\":1,\"category\":\"Snacks & Beverages\",\"disc.\":54}}"
      ],
      "execution_count": 173,
      "outputs": []
    },
    {
      "cell_type": "code",
      "metadata": {
        "id": "qcRainr0kFW-"
      },
      "source": [
        "rec[1][\"price\"]=300"
      ],
      "execution_count": 174,
      "outputs": []
    },
    {
      "cell_type": "code",
      "metadata": {
        "colab": {
          "base_uri": "https://localhost:8080/"
        },
        "id": "VZQA15wSkRHg",
        "outputId": "0e843cb8-2d45-4903-aabb-3109abb5477a"
      },
      "source": [
        "print(rec[1][\"price\"])"
      ],
      "execution_count": 175,
      "outputs": [
        {
          "output_type": "stream",
          "name": "stdout",
          "text": [
            "300\n"
          ]
        }
      ]
    },
    {
      "cell_type": "code",
      "metadata": {
        "id": "fXo3IdkmkWFo"
      },
      "source": [
        "import json"
      ],
      "execution_count": 176,
      "outputs": []
    },
    {
      "cell_type": "code",
      "metadata": {
        "id": "9PD0Zq4ckbaz"
      },
      "source": [
        "js=json.dumps(rec)"
      ],
      "execution_count": 177,
      "outputs": []
    },
    {
      "cell_type": "code",
      "metadata": {
        "colab": {
          "base_uri": "https://localhost:8080/",
          "height": 137
        },
        "id": "33hbEQxdkgcI",
        "outputId": "ccfd8490-283b-4add-fda8-f2e0e8c5f8b9"
      },
      "source": [
        "js"
      ],
      "execution_count": 178,
      "outputs": [
        {
          "output_type": "execute_result",
          "data": {
            "application/vnd.google.colaboratory.intrinsic+json": {
              "type": "string"
            },
            "text/plain": [
              "'{\"1\": {\"name\": \"Moong Dal                             \", \"price\": 300, \"quantity\": 1, \"category\": \"staples\", \"disc.\": 22}, \"2\": {\"name\": \"sugar                                 \", \"price\": 100, \"quantity\": 2, \"category\": \"staples\", \"disc.\": 23}, \"3\": {\"name\": \"Masoor Dal                            \", \"price\": 300, \"quantity\": 2, \"category\": \"staples\", \"disc.\": 30}, \"4\": {\"name\": \"Chana Dal                             \", \"price\": 80, \"quantity\": 1, \"category\": \"staple\", \"disc.\": 0}, \"5\": {\"name\": \"Sunflower oil                         \", \"price\": 180, \"quantity\": 1, \"category\": \"staples\", \"disc.\": 14}, \"6\": {\"name\": \"Almonds                               \", \"price\": 600, \"quantity\": 3, \"category\": \"staples\", \"disc.\": 34}, \"7\": {\"name\": \"Rice Flour                            \", \"price\": 500, \"quantity\": 10, \"category\": \"staples\", \"disc.\": 0}, \"8\": {\"name\": \"Wheat Atta                            \", \"price\": 200, \"quantity\": 5, \"category\": \"staples\", \"disc.\": 0}, \"9\": {\"name\": \"Black Pepper                          \", \"price\": 50, \"quantity\": 1, \"category\": \"staples\", \"disc.\": 0}, \"10\": {\"name\": \"Turmeric Powder                      \", \"price\": 160, \"quantity\": 2, \"category\": \"staples\", \"disc.\": 10}, \"11\": {\"name\": \"Santoor                              \", \"price\": 227, \"quantity\": 8, \"category\": \"personl care\", \"disc.\": 20}, \"12\": {\"name\": \"Dettol Hand Wash                     \", \"price\": 88, \"quantity\": 1, \"category\": \"personal care\", \"disc.\": 15}, \"13\": {\"name\": \"Himalaya Neem Face Wash              \", \"price\": 173, \"quantity\": 1, \"category\": \"personal care\", \"disc.\": 35}, \"14\": {\"name\": \"cinthol                              \", \"price\": 100, \"quantity\": 3, \"category\": \"personal care\", \"disc.\": 15}, \"15\": {\"name\": \"Parachute HairOil                    \", \"price\": 150, \"quantity\": 1, \"category\": \"personal care\", \"disc.\": 25}, \"16\": {\"name\": \"Head & Shoulders shampoo             \", \"price\": 227, \"quantity\": 8, \"category\": \"personl care\", \"disc.\": 11}, \"17\": {\"name\": \"Colgate Maxfresh Ice Tooothpaste     \", \"price\": 300, \"quantity\": 4, \"category\": \"personal care\", \"disc.\": 17}, \"18\": {\"name\": \"Yardley London Body Spray            \", \"price\": 150, \"quantity\": 1, \"category\": \"personal care\", \"disc.\": 0}, \"19\": {\"name\": \"Vaseline Moisture Body Lotion        \", \"price\": 340, \"quantity\": 2, \"category\": \"personal care\", \"disc.\": 25}, \"20\": {\"name\": \"Johnson\\'s Baby soap                  \", \"price\": 250, \"quantity\": 3, \"category\": \"personal care\", \"disc.\": 50}, \"21\": {\"name\": \"Surf excel detergent                 \", \"price\": 200, \"quantity\": 1, \"category\": \"Household Care\", \"disc.\": 40}, \"22\": {\"name\": \"Vim dishwash bar                     \", \"price\": 40, \"quantity\": 3, \"category\": \"Household Care\", \"disc.\": 14}, \"23\": {\"name\": \"Good Knight Mosquito Vaporiser Refill\", \"price\": 270, \"quantity\": 3, \"category\": \"Household Care\", \"disc.\": 20}, \"24\": {\"name\": \"UNIBIC Butter Cookies                \", \"price\": 60, \"quantity\": 5, \"category\": \"Snacks & Beverages\", \"disc.\": 32}, \"25\": {\"name\": \"Elite Milk Rusk                      \", \"price\": 50, \"quantity\": 2, \"category\": \"Snacks & Beverages\", \"disc.\": 12}, \"26\": {\"name\": \"Bingo Mad Angles                     \", \"price\": 30, \"quantity\": 1, \"category\": \"Snacks & Beverages\", \"disc.\": 34}, \"27\": {\"name\": \"Lipton Green Tea box                 \", \"price\": 120, \"quantity\": 1, \"category\": \"Snacks & Beverages\", \"disc.\": 0}, \"28\": {\"name\": \"BRU Instant Coffee                   \", \"price\": 250, \"quantity\": 1, \"category\": \"Snacks & Beverages\", \"disc.\": 25}, \"29\": {\"name\": \"Coca-Cola Can                        \", \"price\": 30, \"quantity\": 1, \"category\": \"Snacks & Beverages\", \"disc.\": 0}, \"30\": {\"name\": \"Rasna Instant Mango                  \", \"price\": 109, \"quantity\": 1, \"category\": \"Snacks & Beverages\", \"disc.\": 54}}'"
            ]
          },
          "metadata": {},
          "execution_count": 178
        }
      ]
    },
    {
      "cell_type": "code",
      "metadata": {
        "colab": {
          "base_uri": "https://localhost:8080/"
        },
        "id": "Ouvq57m9knMY",
        "outputId": "43827226-7852-42c9-c5c1-59f35de390f6"
      },
      "source": [
        "rec"
      ],
      "execution_count": 179,
      "outputs": [
        {
          "output_type": "execute_result",
          "data": {
            "text/plain": [
              "{1: {'category': 'staples',\n",
              "  'disc.': 22,\n",
              "  'name': 'Moong Dal                             ',\n",
              "  'price': 300,\n",
              "  'quantity': 1},\n",
              " 2: {'category': 'staples',\n",
              "  'disc.': 23,\n",
              "  'name': 'sugar                                 ',\n",
              "  'price': 100,\n",
              "  'quantity': 2},\n",
              " 3: {'category': 'staples',\n",
              "  'disc.': 30,\n",
              "  'name': 'Masoor Dal                            ',\n",
              "  'price': 300,\n",
              "  'quantity': 2},\n",
              " 4: {'category': 'staple',\n",
              "  'disc.': 0,\n",
              "  'name': 'Chana Dal                             ',\n",
              "  'price': 80,\n",
              "  'quantity': 1},\n",
              " 5: {'category': 'staples',\n",
              "  'disc.': 14,\n",
              "  'name': 'Sunflower oil                         ',\n",
              "  'price': 180,\n",
              "  'quantity': 1},\n",
              " 6: {'category': 'staples',\n",
              "  'disc.': 34,\n",
              "  'name': 'Almonds                               ',\n",
              "  'price': 600,\n",
              "  'quantity': 3},\n",
              " 7: {'category': 'staples',\n",
              "  'disc.': 0,\n",
              "  'name': 'Rice Flour                            ',\n",
              "  'price': 500,\n",
              "  'quantity': 10},\n",
              " 8: {'category': 'staples',\n",
              "  'disc.': 0,\n",
              "  'name': 'Wheat Atta                            ',\n",
              "  'price': 200,\n",
              "  'quantity': 5},\n",
              " 9: {'category': 'staples',\n",
              "  'disc.': 0,\n",
              "  'name': 'Black Pepper                          ',\n",
              "  'price': 50,\n",
              "  'quantity': 1},\n",
              " 10: {'category': 'staples',\n",
              "  'disc.': 10,\n",
              "  'name': 'Turmeric Powder                      ',\n",
              "  'price': 160,\n",
              "  'quantity': 2},\n",
              " 11: {'category': 'personl care',\n",
              "  'disc.': 20,\n",
              "  'name': 'Santoor                              ',\n",
              "  'price': 227,\n",
              "  'quantity': 8},\n",
              " 12: {'category': 'personal care',\n",
              "  'disc.': 15,\n",
              "  'name': 'Dettol Hand Wash                     ',\n",
              "  'price': 88,\n",
              "  'quantity': 1},\n",
              " 13: {'category': 'personal care',\n",
              "  'disc.': 35,\n",
              "  'name': 'Himalaya Neem Face Wash              ',\n",
              "  'price': 173,\n",
              "  'quantity': 1},\n",
              " 14: {'category': 'personal care',\n",
              "  'disc.': 15,\n",
              "  'name': 'cinthol                              ',\n",
              "  'price': 100,\n",
              "  'quantity': 3},\n",
              " 15: {'category': 'personal care',\n",
              "  'disc.': 25,\n",
              "  'name': 'Parachute HairOil                    ',\n",
              "  'price': 150,\n",
              "  'quantity': 1},\n",
              " 16: {'category': 'personl care',\n",
              "  'disc.': 11,\n",
              "  'name': 'Head & Shoulders shampoo             ',\n",
              "  'price': 227,\n",
              "  'quantity': 8},\n",
              " 17: {'category': 'personal care',\n",
              "  'disc.': 17,\n",
              "  'name': 'Colgate Maxfresh Ice Tooothpaste     ',\n",
              "  'price': 300,\n",
              "  'quantity': 4},\n",
              " 18: {'category': 'personal care',\n",
              "  'disc.': 0,\n",
              "  'name': 'Yardley London Body Spray            ',\n",
              "  'price': 150,\n",
              "  'quantity': 1},\n",
              " 19: {'category': 'personal care',\n",
              "  'disc.': 25,\n",
              "  'name': 'Vaseline Moisture Body Lotion        ',\n",
              "  'price': 340,\n",
              "  'quantity': 2},\n",
              " 20: {'category': 'personal care',\n",
              "  'disc.': 50,\n",
              "  'name': \"Johnson's Baby soap                  \",\n",
              "  'price': 250,\n",
              "  'quantity': 3},\n",
              " 21: {'category': 'Household Care',\n",
              "  'disc.': 40,\n",
              "  'name': 'Surf excel detergent                 ',\n",
              "  'price': 200,\n",
              "  'quantity': 1},\n",
              " 22: {'category': 'Household Care',\n",
              "  'disc.': 14,\n",
              "  'name': 'Vim dishwash bar                     ',\n",
              "  'price': 40,\n",
              "  'quantity': 3},\n",
              " 23: {'category': 'Household Care',\n",
              "  'disc.': 20,\n",
              "  'name': 'Good Knight Mosquito Vaporiser Refill',\n",
              "  'price': 270,\n",
              "  'quantity': 3},\n",
              " 24: {'category': 'Snacks & Beverages',\n",
              "  'disc.': 32,\n",
              "  'name': 'UNIBIC Butter Cookies                ',\n",
              "  'price': 60,\n",
              "  'quantity': 5},\n",
              " 25: {'category': 'Snacks & Beverages',\n",
              "  'disc.': 12,\n",
              "  'name': 'Elite Milk Rusk                      ',\n",
              "  'price': 50,\n",
              "  'quantity': 2},\n",
              " 26: {'category': 'Snacks & Beverages',\n",
              "  'disc.': 34,\n",
              "  'name': 'Bingo Mad Angles                     ',\n",
              "  'price': 30,\n",
              "  'quantity': 1},\n",
              " 27: {'category': 'Snacks & Beverages',\n",
              "  'disc.': 0,\n",
              "  'name': 'Lipton Green Tea box                 ',\n",
              "  'price': 120,\n",
              "  'quantity': 1},\n",
              " 28: {'category': 'Snacks & Beverages',\n",
              "  'disc.': 25,\n",
              "  'name': 'BRU Instant Coffee                   ',\n",
              "  'price': 250,\n",
              "  'quantity': 1},\n",
              " 29: {'category': 'Snacks & Beverages',\n",
              "  'disc.': 0,\n",
              "  'name': 'Coca-Cola Can                        ',\n",
              "  'price': 30,\n",
              "  'quantity': 1},\n",
              " 30: {'category': 'Snacks & Beverages',\n",
              "  'disc.': 54,\n",
              "  'name': 'Rasna Instant Mango                  ',\n",
              "  'price': 109,\n",
              "  'quantity': 1}}"
            ]
          },
          "metadata": {},
          "execution_count": 179
        }
      ]
    },
    {
      "cell_type": "code",
      "metadata": {
        "id": "BzIUeJZrkt5I"
      },
      "source": [
        "fd=open(\"rec.json\",'w')\n",
        "fd.write(js)\n",
        "fd.close()"
      ],
      "execution_count": 180,
      "outputs": []
    },
    {
      "cell_type": "code",
      "metadata": {
        "id": "IEl0xr8MlD7s"
      },
      "source": [
        "fd=open(\"rec.json\",'r')\n",
        "txt=fd.read()\n",
        "fd.close()"
      ],
      "execution_count": 181,
      "outputs": []
    },
    {
      "cell_type": "code",
      "metadata": {
        "id": "Uk4O9ML6leMQ"
      },
      "source": [
        "rec=json.loads(txt)"
      ],
      "execution_count": 182,
      "outputs": []
    },
    {
      "cell_type": "code",
      "metadata": {
        "colab": {
          "base_uri": "https://localhost:8080/"
        },
        "id": "eH4SlW_clzvm",
        "outputId": "8362be6c-4b72-41d8-a39e-9fda06070a1e"
      },
      "source": [
        "rec"
      ],
      "execution_count": 183,
      "outputs": [
        {
          "output_type": "execute_result",
          "data": {
            "text/plain": [
              "{'1': {'category': 'staples',\n",
              "  'disc.': 22,\n",
              "  'name': 'Moong Dal                             ',\n",
              "  'price': 300,\n",
              "  'quantity': 1},\n",
              " '10': {'category': 'staples',\n",
              "  'disc.': 10,\n",
              "  'name': 'Turmeric Powder                      ',\n",
              "  'price': 160,\n",
              "  'quantity': 2},\n",
              " '11': {'category': 'personl care',\n",
              "  'disc.': 20,\n",
              "  'name': 'Santoor                              ',\n",
              "  'price': 227,\n",
              "  'quantity': 8},\n",
              " '12': {'category': 'personal care',\n",
              "  'disc.': 15,\n",
              "  'name': 'Dettol Hand Wash                     ',\n",
              "  'price': 88,\n",
              "  'quantity': 1},\n",
              " '13': {'category': 'personal care',\n",
              "  'disc.': 35,\n",
              "  'name': 'Himalaya Neem Face Wash              ',\n",
              "  'price': 173,\n",
              "  'quantity': 1},\n",
              " '14': {'category': 'personal care',\n",
              "  'disc.': 15,\n",
              "  'name': 'cinthol                              ',\n",
              "  'price': 100,\n",
              "  'quantity': 3},\n",
              " '15': {'category': 'personal care',\n",
              "  'disc.': 25,\n",
              "  'name': 'Parachute HairOil                    ',\n",
              "  'price': 150,\n",
              "  'quantity': 1},\n",
              " '16': {'category': 'personl care',\n",
              "  'disc.': 11,\n",
              "  'name': 'Head & Shoulders shampoo             ',\n",
              "  'price': 227,\n",
              "  'quantity': 8},\n",
              " '17': {'category': 'personal care',\n",
              "  'disc.': 17,\n",
              "  'name': 'Colgate Maxfresh Ice Tooothpaste     ',\n",
              "  'price': 300,\n",
              "  'quantity': 4},\n",
              " '18': {'category': 'personal care',\n",
              "  'disc.': 0,\n",
              "  'name': 'Yardley London Body Spray            ',\n",
              "  'price': 150,\n",
              "  'quantity': 1},\n",
              " '19': {'category': 'personal care',\n",
              "  'disc.': 25,\n",
              "  'name': 'Vaseline Moisture Body Lotion        ',\n",
              "  'price': 340,\n",
              "  'quantity': 2},\n",
              " '2': {'category': 'staples',\n",
              "  'disc.': 23,\n",
              "  'name': 'sugar                                 ',\n",
              "  'price': 100,\n",
              "  'quantity': 2},\n",
              " '20': {'category': 'personal care',\n",
              "  'disc.': 50,\n",
              "  'name': \"Johnson's Baby soap                  \",\n",
              "  'price': 250,\n",
              "  'quantity': 3},\n",
              " '21': {'category': 'Household Care',\n",
              "  'disc.': 40,\n",
              "  'name': 'Surf excel detergent                 ',\n",
              "  'price': 200,\n",
              "  'quantity': 1},\n",
              " '22': {'category': 'Household Care',\n",
              "  'disc.': 14,\n",
              "  'name': 'Vim dishwash bar                     ',\n",
              "  'price': 40,\n",
              "  'quantity': 3},\n",
              " '23': {'category': 'Household Care',\n",
              "  'disc.': 20,\n",
              "  'name': 'Good Knight Mosquito Vaporiser Refill',\n",
              "  'price': 270,\n",
              "  'quantity': 3},\n",
              " '24': {'category': 'Snacks & Beverages',\n",
              "  'disc.': 32,\n",
              "  'name': 'UNIBIC Butter Cookies                ',\n",
              "  'price': 60,\n",
              "  'quantity': 5},\n",
              " '25': {'category': 'Snacks & Beverages',\n",
              "  'disc.': 12,\n",
              "  'name': 'Elite Milk Rusk                      ',\n",
              "  'price': 50,\n",
              "  'quantity': 2},\n",
              " '26': {'category': 'Snacks & Beverages',\n",
              "  'disc.': 34,\n",
              "  'name': 'Bingo Mad Angles                     ',\n",
              "  'price': 30,\n",
              "  'quantity': 1},\n",
              " '27': {'category': 'Snacks & Beverages',\n",
              "  'disc.': 0,\n",
              "  'name': 'Lipton Green Tea box                 ',\n",
              "  'price': 120,\n",
              "  'quantity': 1},\n",
              " '28': {'category': 'Snacks & Beverages',\n",
              "  'disc.': 25,\n",
              "  'name': 'BRU Instant Coffee                   ',\n",
              "  'price': 250,\n",
              "  'quantity': 1},\n",
              " '29': {'category': 'Snacks & Beverages',\n",
              "  'disc.': 0,\n",
              "  'name': 'Coca-Cola Can                        ',\n",
              "  'price': 30,\n",
              "  'quantity': 1},\n",
              " '3': {'category': 'staples',\n",
              "  'disc.': 30,\n",
              "  'name': 'Masoor Dal                            ',\n",
              "  'price': 300,\n",
              "  'quantity': 2},\n",
              " '30': {'category': 'Snacks & Beverages',\n",
              "  'disc.': 54,\n",
              "  'name': 'Rasna Instant Mango                  ',\n",
              "  'price': 109,\n",
              "  'quantity': 1},\n",
              " '4': {'category': 'staple',\n",
              "  'disc.': 0,\n",
              "  'name': 'Chana Dal                             ',\n",
              "  'price': 80,\n",
              "  'quantity': 1},\n",
              " '5': {'category': 'staples',\n",
              "  'disc.': 14,\n",
              "  'name': 'Sunflower oil                         ',\n",
              "  'price': 180,\n",
              "  'quantity': 1},\n",
              " '6': {'category': 'staples',\n",
              "  'disc.': 34,\n",
              "  'name': 'Almonds                               ',\n",
              "  'price': 600,\n",
              "  'quantity': 3},\n",
              " '7': {'category': 'staples',\n",
              "  'disc.': 0,\n",
              "  'name': 'Rice Flour                            ',\n",
              "  'price': 500,\n",
              "  'quantity': 10},\n",
              " '8': {'category': 'staples',\n",
              "  'disc.': 0,\n",
              "  'name': 'Wheat Atta                            ',\n",
              "  'price': 200,\n",
              "  'quantity': 5},\n",
              " '9': {'category': 'staples',\n",
              "  'disc.': 0,\n",
              "  'name': 'Black Pepper                          ',\n",
              "  'price': 50,\n",
              "  'quantity': 1}}"
            ]
          },
          "metadata": {},
          "execution_count": 183
        }
      ]
    },
    {
      "cell_type": "code",
      "metadata": {
        "colab": {
          "base_uri": "https://localhost:8080/"
        },
        "id": "hRvD5q4hmqB3",
        "outputId": "6fc77c61-d964-4eca-8584-48588de8e4a5"
      },
      "source": [
        " \n",
        "print(\"Items available in the store are:\\n\")\n",
        "  \n",
        "print(rec)\n",
        "print('\\nEnter the product name and quantity you would like to buy:')\n",
        "buy={}\n",
        "for i in range (0,5):\n",
        "    n=input()\n",
        "    m=n.split(' ')\n",
        "    buy[m[0]] = int(m[1])\n"
      ],
      "execution_count": 184,
      "outputs": [
        {
          "name": "stdout",
          "output_type": "stream",
          "text": [
            "Items available in the store are:\n",
            "\n",
            "{'1': {'name': 'Moong Dal                             ', 'price': 300, 'quantity': 1, 'category': 'staples', 'disc.': 22}, '2': {'name': 'sugar                                 ', 'price': 100, 'quantity': 2, 'category': 'staples', 'disc.': 23}, '3': {'name': 'Masoor Dal                            ', 'price': 300, 'quantity': 2, 'category': 'staples', 'disc.': 30}, '4': {'name': 'Chana Dal                             ', 'price': 80, 'quantity': 1, 'category': 'staple', 'disc.': 0}, '5': {'name': 'Sunflower oil                         ', 'price': 180, 'quantity': 1, 'category': 'staples', 'disc.': 14}, '6': {'name': 'Almonds                               ', 'price': 600, 'quantity': 3, 'category': 'staples', 'disc.': 34}, '7': {'name': 'Rice Flour                            ', 'price': 500, 'quantity': 10, 'category': 'staples', 'disc.': 0}, '8': {'name': 'Wheat Atta                            ', 'price': 200, 'quantity': 5, 'category': 'staples', 'disc.': 0}, '9': {'name': 'Black Pepper                          ', 'price': 50, 'quantity': 1, 'category': 'staples', 'disc.': 0}, '10': {'name': 'Turmeric Powder                      ', 'price': 160, 'quantity': 2, 'category': 'staples', 'disc.': 10}, '11': {'name': 'Santoor                              ', 'price': 227, 'quantity': 8, 'category': 'personl care', 'disc.': 20}, '12': {'name': 'Dettol Hand Wash                     ', 'price': 88, 'quantity': 1, 'category': 'personal care', 'disc.': 15}, '13': {'name': 'Himalaya Neem Face Wash              ', 'price': 173, 'quantity': 1, 'category': 'personal care', 'disc.': 35}, '14': {'name': 'cinthol                              ', 'price': 100, 'quantity': 3, 'category': 'personal care', 'disc.': 15}, '15': {'name': 'Parachute HairOil                    ', 'price': 150, 'quantity': 1, 'category': 'personal care', 'disc.': 25}, '16': {'name': 'Head & Shoulders shampoo             ', 'price': 227, 'quantity': 8, 'category': 'personl care', 'disc.': 11}, '17': {'name': 'Colgate Maxfresh Ice Tooothpaste     ', 'price': 300, 'quantity': 4, 'category': 'personal care', 'disc.': 17}, '18': {'name': 'Yardley London Body Spray            ', 'price': 150, 'quantity': 1, 'category': 'personal care', 'disc.': 0}, '19': {'name': 'Vaseline Moisture Body Lotion        ', 'price': 340, 'quantity': 2, 'category': 'personal care', 'disc.': 25}, '20': {'name': \"Johnson's Baby soap                  \", 'price': 250, 'quantity': 3, 'category': 'personal care', 'disc.': 50}, '21': {'name': 'Surf excel detergent                 ', 'price': 200, 'quantity': 1, 'category': 'Household Care', 'disc.': 40}, '22': {'name': 'Vim dishwash bar                     ', 'price': 40, 'quantity': 3, 'category': 'Household Care', 'disc.': 14}, '23': {'name': 'Good Knight Mosquito Vaporiser Refill', 'price': 270, 'quantity': 3, 'category': 'Household Care', 'disc.': 20}, '24': {'name': 'UNIBIC Butter Cookies                ', 'price': 60, 'quantity': 5, 'category': 'Snacks & Beverages', 'disc.': 32}, '25': {'name': 'Elite Milk Rusk                      ', 'price': 50, 'quantity': 2, 'category': 'Snacks & Beverages', 'disc.': 12}, '26': {'name': 'Bingo Mad Angles                     ', 'price': 30, 'quantity': 1, 'category': 'Snacks & Beverages', 'disc.': 34}, '27': {'name': 'Lipton Green Tea box                 ', 'price': 120, 'quantity': 1, 'category': 'Snacks & Beverages', 'disc.': 0}, '28': {'name': 'BRU Instant Coffee                   ', 'price': 250, 'quantity': 1, 'category': 'Snacks & Beverages', 'disc.': 25}, '29': {'name': 'Coca-Cola Can                        ', 'price': 30, 'quantity': 1, 'category': 'Snacks & Beverages', 'disc.': 0}, '30': {'name': 'Rasna Instant Mango                  ', 'price': 109, 'quantity': 1, 'category': 'Snacks & Beverages', 'disc.': 54}}\n",
            "\n",
            "Enter the product name and quantity you would like to buy:\n",
            "1 3\n",
            "11 5\n",
            "8 2\n",
            "24 5\n",
            "27 2\n"
          ]
        }
      ]
    },
    {
      "cell_type": "code",
      "metadata": {
        "colab": {
          "base_uri": "https://localhost:8080/"
        },
        "id": "DFtBc6Ekp-cH",
        "outputId": "e63bcf82-c5e3-445d-d39e-b408c0206aec"
      },
      "source": [
        "print(\"\\t\\tWhole Mart Grocery\")\n",
        "print('---------------------------------------------------------------------------------------')\n",
        "print(\"S.no\\t\",\"\\tparticulars\\t\\t\\t\",\"\\tQ\\t\",\"Cost\")\n",
        "print('----------------------------------------------------------------------------------------')\n",
        "amt=0.00\n",
        "for i in buy:    \n",
        "  if(i in rec.keys()):\n",
        "    print( '{}\\t  \\t{} \\t{} \\t{}'.format(i,rec[i]['name'],buy[i],buy[i]*rec[i]['price']))\n",
        "    amt+=buy[i]*rec[i]['price']\n",
        "print('----------------------------------------------------------------------------------------')\n",
        "print('TOTAL AMOUNT: ',amt)\n",
        "print(\"************************THANK YOU, PLEASE VISIT AGAIN***********************************\")\n",
        "\n",
        "\n",
        "total={}\n",
        "s=1\n",
        "for i in buy:\n",
        "  if(i in rec.keys()):\n",
        "        sne={}\n",
        "        sne['product'] = rec[i]['name']\n",
        "        sne['quantity'] = buy[i]\n",
        "        sne['price'] = rec[i]['price']\n",
        "        sne['cost'] = rec[i]['price']*(1.0 - rec[i]['disc.']/100.0)\n",
        "        sne['total'] = sne['cost']*buy[i]\n",
        "        total[s] = sne\n",
        "        s=s+1"
      ],
      "execution_count": 185,
      "outputs": [
        {
          "output_type": "stream",
          "name": "stdout",
          "text": [
            "\t\tWhole Mart Grocery\n",
            "---------------------------------------------------------------------------------------\n",
            "S.no\t \tparticulars\t\t\t \tQ\t Cost\n",
            "----------------------------------------------------------------------------------------\n",
            "1\t  \tMoong Dal                              \t3 \t900\n",
            "11\t  \tSantoor                               \t5 \t1135\n",
            "8\t  \tWheat Atta                             \t2 \t400\n",
            "24\t  \tUNIBIC Butter Cookies                 \t5 \t300\n",
            "27\t  \tLipton Green Tea box                  \t2 \t240\n",
            "----------------------------------------------------------------------------------------\n",
            "TOTAL AMOUNT:  2975.0\n",
            "************************THANK YOU, PLEASE VISIT AGAIN***********************************\n"
          ]
        }
      ]
    },
    {
      "cell_type": "code",
      "metadata": {
        "id": "FGAP5U5_4Viy"
      },
      "source": [
        "import time"
      ],
      "execution_count": 186,
      "outputs": []
    },
    {
      "cell_type": "code",
      "metadata": {
        "colab": {
          "base_uri": "https://localhost:8080/",
          "height": 35
        },
        "id": "PD1zEelW4d5p",
        "outputId": "813be3b6-e562-40b9-8764-95f1e176c939"
      },
      "source": [
        "time.ctime()"
      ],
      "execution_count": 187,
      "outputs": [
        {
          "output_type": "execute_result",
          "data": {
            "application/vnd.google.colaboratory.intrinsic+json": {
              "type": "string"
            },
            "text/plain": [
              "'Sun Sep  5 12:19:04 2021'"
            ]
          },
          "metadata": {},
          "execution_count": 187
        }
      ]
    },
    {
      "cell_type": "code",
      "metadata": {
        "id": "y5sVjKhp04pC"
      },
      "source": [
        "js = json.dumps(total)\n",
        "\n",
        "fd = open(\"purchases.json\",'w')\n",
        "\n",
        "fd.write(js)\n",
        "\n",
        "fd.close()"
      ],
      "execution_count": 188,
      "outputs": []
    },
    {
      "cell_type": "markdown",
      "metadata": {
        "id": "zPXEGmvxtdyY"
      },
      "source": [
        ""
      ]
    },
    {
      "cell_type": "code",
      "metadata": {
        "id": "a7NhJ7cR2tzQ"
      },
      "source": [
        "fd = open(\"purchases.json\", 'r')\n",
        "t = fd.read()\n",
        "fd.close()"
      ],
      "execution_count": 189,
      "outputs": []
    },
    {
      "cell_type": "code",
      "metadata": {
        "id": "QmAdKo7X2z15"
      },
      "source": [
        "js = json.dumps(total)\n",
        "\n",
        "fd = open(\"purchases.txt\",'w')\n",
        "\n",
        "fd.write(js)\n",
        "\n",
        "fd.close()"
      ],
      "execution_count": 190,
      "outputs": []
    },
    {
      "cell_type": "code",
      "metadata": {
        "id": "ZYicCzV526Xc"
      },
      "source": [
        "fd = open(\"purchases.txt\", 'r')\n",
        "txt= fd.read()\n",
        "fd.close()"
      ],
      "execution_count": 191,
      "outputs": []
    },
    {
      "cell_type": "code",
      "metadata": {
        "colab": {
          "base_uri": "https://localhost:8080/",
          "height": 102
        },
        "id": "XPturEAk2-qC",
        "outputId": "7ab743c0-811e-480f-e9bb-530482a11eba"
      },
      "source": [
        "txt"
      ],
      "execution_count": 192,
      "outputs": [
        {
          "output_type": "execute_result",
          "data": {
            "application/vnd.google.colaboratory.intrinsic+json": {
              "type": "string"
            },
            "text/plain": [
              "'{\"1\": {\"product\": \"Moong Dal                             \", \"quantity\": 3, \"price\": 300, \"cost\": 234.0, \"total\": 702.0}, \"2\": {\"product\": \"Santoor                              \", \"quantity\": 5, \"price\": 227, \"cost\": 181.60000000000002, \"total\": 908.0000000000001}, \"3\": {\"product\": \"Wheat Atta                            \", \"quantity\": 2, \"price\": 200, \"cost\": 200.0, \"total\": 400.0}, \"4\": {\"product\": \"UNIBIC Butter Cookies                \", \"quantity\": 5, \"price\": 60, \"cost\": 40.8, \"total\": 204.0}, \"5\": {\"product\": \"Lipton Green Tea box                 \", \"quantity\": 2, \"price\": 120, \"cost\": 120.0, \"total\": 240.0}}'"
            ]
          },
          "metadata": {},
          "execution_count": 192
        }
      ]
    },
    {
      "cell_type": "code",
      "metadata": {
        "id": "R-s7_iMI3GUk"
      },
      "source": [
        "\n",
        "product_list = json.loads(txt)"
      ],
      "execution_count": 193,
      "outputs": []
    },
    {
      "cell_type": "code",
      "metadata": {
        "colab": {
          "base_uri": "https://localhost:8080/"
        },
        "id": "4m0IZLOQ3OTB",
        "outputId": "7784f076-846e-4489-9e5f-cd415c60b009"
      },
      "source": [
        "product_list"
      ],
      "execution_count": 194,
      "outputs": [
        {
          "output_type": "execute_result",
          "data": {
            "text/plain": [
              "{'1': {'cost': 234.0,\n",
              "  'price': 300,\n",
              "  'product': 'Moong Dal                             ',\n",
              "  'quantity': 3,\n",
              "  'total': 702.0},\n",
              " '2': {'cost': 181.60000000000002,\n",
              "  'price': 227,\n",
              "  'product': 'Santoor                              ',\n",
              "  'quantity': 5,\n",
              "  'total': 908.0000000000001},\n",
              " '3': {'cost': 200.0,\n",
              "  'price': 200,\n",
              "  'product': 'Wheat Atta                            ',\n",
              "  'quantity': 2,\n",
              "  'total': 400.0},\n",
              " '4': {'cost': 40.8,\n",
              "  'price': 60,\n",
              "  'product': 'UNIBIC Butter Cookies                ',\n",
              "  'quantity': 5,\n",
              "  'total': 204.0},\n",
              " '5': {'cost': 120.0,\n",
              "  'price': 120,\n",
              "  'product': 'Lipton Green Tea box                 ',\n",
              "  'quantity': 2,\n",
              "  'total': 240.0}}"
            ]
          },
          "metadata": {},
          "execution_count": 194
        }
      ]
    }
  ]
}